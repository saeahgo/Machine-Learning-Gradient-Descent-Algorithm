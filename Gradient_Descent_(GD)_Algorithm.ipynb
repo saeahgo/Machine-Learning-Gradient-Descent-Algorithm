{
  "nbformat": 4,
  "nbformat_minor": 0,
  "metadata": {
    "colab": {
      "name": "Gradient Descent (GD) Algorithm.ipynb",
      "provenance": []
    },
    "kernelspec": {
      "name": "python3",
      "display_name": "Python 3"
    },
    "language_info": {
      "name": "python"
    }
  },
  "cells": [
    {
      "cell_type": "code",
      "source": [
        "import numpy as np"
      ],
      "metadata": {
        "id": "Vi2kU_PyuSee"
      },
      "execution_count": null,
      "outputs": []
    },
    {
      "cell_type": "code",
      "source": [
        "best_x = np.array([100,100])\n",
        "eta = 0.1\n",
        "trials = 10\n",
        "steps = 500"
      ],
      "metadata": {
        "id": "Ciyk7wL4uGgq"
      },
      "execution_count": null,
      "outputs": []
    },
    {
      "cell_type": "code",
      "source": [
        "print(\"Learning rate \", eta)\n",
        "for trial in range(trials):\n",
        "  \n",
        "  x_0 = np.random.uniform(low=-10, high=10, size=(2,1)) # choose random x_0\n",
        "  x_prev = x_0\n",
        "  \n",
        "  for step in range(steps):\n",
        "\n",
        "    # get the derivatives\n",
        "    x_prime = -4 + (4 * x_prev[0])\n",
        "    y_prime = 24 + (6 * x_prev[1])\n",
        "    x = x_prev - eta * np.array([x_prime, y_prime])\n",
        "\n",
        "    z = 52 - (4 * x[0]) + (2*x[0]*x[0]) + (24 * x[1]) + (3 * x[1] * x[1])\n",
        "    best_z = 52 - (4 * best_x[0]) + (2*best_x[0]*best_x[0]) + (24 * best_x[1]) + (3 * best_x[1] * best_x[1])\n",
        "\n",
        "    if(z < best_z):\n",
        "      best_x = x\n",
        "\n",
        "    # update x_prev for next iteration\n",
        "    x_prev = x \n",
        "\n",
        "  print(\"Trial \", trial+1, \":\", best_x.T)"
      ],
      "metadata": {
        "colab": {
          "base_uri": "https://localhost:8080/"
        },
        "id": "3j-RZwY5zmrg",
        "outputId": "f1189c5c-bca5-4088-ae73-a88ab8c39f58"
      },
      "execution_count": null,
      "outputs": [
        {
          "output_type": "stream",
          "name": "stdout",
          "text": [
            "Learning rate  0.1\n",
            "Trial  1 : [[ 1.00000004 -4.        ]]\n",
            "Trial  2 : [[ 1.00000004 -4.        ]]\n",
            "Trial  3 : [[ 1.00000004 -4.        ]]\n",
            "Trial  4 : [[ 1.00000004 -4.        ]]\n",
            "Trial  5 : [[ 1.00000004 -4.        ]]\n",
            "Trial  6 : [[ 1.00000004 -4.        ]]\n",
            "Trial  7 : [[ 1.00000004 -4.        ]]\n",
            "Trial  8 : [[ 1.00000004 -4.        ]]\n",
            "Trial  9 : [[ 1.00000004 -4.        ]]\n",
            "Trial  10 : [[ 1.00000004 -4.        ]]\n"
          ]
        }
      ]
    }
  ]
}